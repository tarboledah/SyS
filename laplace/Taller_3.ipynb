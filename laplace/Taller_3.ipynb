{
  "nbformat": 4,
  "nbformat_minor": 0,
  "metadata": {
    "colab": {
      "provenance": [],
      "include_colab_link": true
    },
    "kernelspec": {
      "name": "python3",
      "display_name": "Python 3"
    },
    "language_info": {
      "name": "python"
    }
  },
  "cells": [
    {
      "cell_type": "markdown",
      "metadata": {
        "id": "view-in-github",
        "colab_type": "text"
      },
      "source": [
        "<a href=\"https://colab.research.google.com/github/tarboledah/SyS/blob/main/laplace/Taller_3.ipynb\" target=\"_parent\"><img src=\"https://colab.research.google.com/assets/colab-badge.svg\" alt=\"Open In Colab\"/></a>"
      ]
    },
    {
      "cell_type": "markdown",
      "source": [
        "#1.1 Definicion de la transformada de La Place\n",
        "- Obtenga $ X(s) $ junto con su ROC de la anterior gráfica de polos y ceros."
      ],
      "metadata": {
        "id": "dikSoL9bfUsJ"
      }
    },
    {
      "cell_type": "markdown",
      "source": [
        "### Solución del ejercicio\n",
        "\n",
        "####  Interpretación de la gráfica de polos y ceros\n",
        "\n",
        "- **Polos**: Hay dos polos en $ s = \\pm j1 $, que corresponden a las raíces del denominador de la función.\n",
        "- **Ceros**: Hay un cero en $ s = 0 $ de segundo orden (indicado por el \"2\" entre paréntesis), lo que significa que el numerador de la función tiene un término de grado 2 en $ s $.\n",
        "- **Ganancia**  $K = 2 $: Esta es una constante multiplicativa que afecta la amplitud de la función $ X(s) $.\n",
        "\n",
        "#### Escribir la función $ X(s) $\n",
        "\n",
        "La forma general de una función racional en la transformada de Laplace es:\n",
        "\n",
        "$\n",
        "X(s) = K \\frac{\\text{(ceros en términos de } s\\text{)}}{\\text{(polos en términos de } s\\text{)}}\n",
        "$\n",
        "\n",
        "Basándonos en la gráfica:\n",
        "\n",
        "- Cero de segundo orden en $s = 0 $ implica un término $ s^2 $ en el numerador.\n",
        "- Los polos están en $s = j1 $ y $ s = -j1 $, lo que corresponde a un denominador $ (s - j1)(s + j1) $, o $ s^2 + 1 $ en forma factorizada.\n",
        "\n",
        "Por lo tanto, la expresión para $ X(s) $ es:\n",
        "\n",
        "$\n",
        "X(s) = K \\frac{s^2}{s^2 + 1}\n",
        "$\n",
        "\n",
        "Con $ K = 2 $:\n",
        "\n",
        "$\n",
        "X(s) = 2 \\frac{s^2}{s^2 + 1}\n",
        "$\n",
        "\n",
        "####  Determinar la Región de Convergencia (ROC)\n",
        "\n",
        "La Región de Convergencia (ROC) para una función racional como esta depende de los polos. En este caso, los polos están en $ s = \\pm j1 $.\n",
        "\n",
        "Para este tipo de sistemas:\n",
        "\n",
        "- Si la función representa una respuesta causal, la ROC sería $ \\Re(s) > 0 $.\n",
        "- Si es una respuesta anticausal, la ROC sería $ \\Re(s) < 0 $.\n",
        "\n",
        "Como no se nos proporciona más información, se asume que el sistema es causal, por lo que la ROC sería $ \\Re(s) > 0 $.\n",
        "\n",
        "#### Resultado final:\n",
        "\n",
        "$\n",
        "X(s) = 2 \\frac{s^2}{s^2 + 1}\n",
        "$\n",
        "\n",
        "$\n",
        "\\text{ROC}: \\Re(s) > 0\n",
        "$\n"
      ],
      "metadata": {
        "id": "LK8kHBm2f-oz"
      }
    },
    {
      "cell_type": "markdown",
      "source": [
        "# 1.2 Propiedades basicas de la transformada de La Place\n",
        "Determinar los polos y ceros de\n",
        "\n",
        " $L{ E(t)*sin(Wot)}\n",
        " L{ E(t)*sin(Wot)} = Wo/s^2 + Wo^2$"
      ],
      "metadata": {
        "id": "d_d4J9a1jG6p"
      }
    },
    {
      "cell_type": "code",
      "source": [
        "%matplotlib inline\n",
        "import sympy as sym\n",
        "import numpy as np\n"
      ],
      "metadata": {
        "id": "3hbUWXoZkzbX"
      },
      "execution_count": null,
      "outputs": []
    },
    {
      "cell_type": "code",
      "source": [
        "polos = sym.roots(sym.denom(X),s)\n",
        "polos"
      ],
      "metadata": {
        "colab": {
          "base_uri": "https://localhost:8080/"
        },
        "id": "1NvUgQozn1J-",
        "outputId": "f4edf5a6-5467-46ab-a138-87e9fe18900a"
      },
      "execution_count": null,
      "outputs": [
        {
          "output_type": "execute_result",
          "data": {
            "text/plain": [
              "{-I*Wo: 1, I*Wo: 1}"
            ]
          },
          "metadata": {},
          "execution_count": 7
        }
      ]
    },
    {
      "cell_type": "code",
      "source": [
        "ceros = sym.roots(sym.numer(X),s)\n",
        "ceros"
      ],
      "metadata": {
        "colab": {
          "base_uri": "https://localhost:8080/"
        },
        "id": "zFcV_gGtoAzZ",
        "outputId": "f54ed259-42a2-45df-ec41-e8c43969f13f"
      },
      "execution_count": null,
      "outputs": [
        {
          "output_type": "execute_result",
          "data": {
            "text/plain": [
              "{}"
            ]
          },
          "metadata": {},
          "execution_count": 8
        }
      ]
    },
    {
      "cell_type": "code",
      "source": [
        "import matplotlib.pyplot as plt\n",
        "\n",
        "def pole_zero_plot(poles, zeros, ax=None):\n",
        "\n",
        "    for pole in poles:\n",
        "        plt.plot(complex(pole).real, complex(pole).imag, 'rx', markersize=10)\n",
        "    for zero in zeros:\n",
        "        plt.plot(complex(zero).real, complex(zero).imag, 'bo', markersize=10)\n",
        "\n",
        "    if ax is None:\n",
        "        ax = plt.gca()\n",
        "    ax.set_aspect(1)\n",
        "\n",
        "    plt.axis([-2, 2, -2, 2])\n",
        "    plt.xlabel(r'$\\Re \\{ s \\}$')\n",
        "    plt.ylabel(r'$\\Im \\{ s \\}$')\n",
        "    plt.grid()"
      ],
      "metadata": {
        "id": "n1DPU_JQoN2V"
      },
      "execution_count": null,
      "outputs": []
    },
    {
      "cell_type": "code",
      "source": [
        "X2 = X.subs(Wo, 1+sym.I)\n",
        "pole_zero_plot(sym.roots(sym.denom(X2), s), sym.roots(sym.numer(X2), s))"
      ],
      "metadata": {
        "colab": {
          "base_uri": "https://localhost:8080/",
          "height": 457
        },
        "id": "qfQO8BH3oULg",
        "outputId": "e718b3dc-ccc1-4fa7-aedb-fc337c0ceeae"
      },
      "execution_count": null,
      "outputs": [
        {
          "output_type": "display_data",
          "data": {
            "text/plain": [
              "<Figure size 640x480 with 1 Axes>"
            ],
            "image/png": "[encoded data removed]"
          },
          "metadata": {}
        }
      ]
    },
    {
      "cell_type": "markdown",
      "source": [
        "## 1.3 Demostrar las siguientes propiedades (sin utilizar tablas de propiedades)\n",
        "\n",
        "1. **$ \\mathcal{L} \\{ x(t - t_0) \\} = e^{-s t_0} X(s) $**\n",
        "\n",
        "   **Demostración:**\n",
        "\n",
        "   Aplicamos la definición de la transformada de Laplace:\n",
        "\n",
        "   $\n",
        "   \\mathcal{L} \\{ x(t - t_0) \\} = \\int_0^{\\infty} x(t - t_0) e^{-st} dt\n",
        "   $\n",
        "\n",
        "   Realizando el cambio de variable $ t' = t - t_0 $, obtenemos:\n",
        "\n",
        "   $\n",
        "   \\mathcal{L} \\{ x(t - t_0) \\} = e^{-s t_0} \\int_0^{\\infty} x(t') e^{-s t'} dt' = e^{-s t_0} X(s)\n",
        "   $\n",
        "\n",
        "\n",
        "2. **$ \\mathcal{L} \\{ x(at) \\} = \\frac{1}{|a|} X\\left(\\frac{s}{a}\\right) $**\n",
        "\n",
        "   **Demostración:**\n",
        "\n",
        "   Definimos la transformada de Laplace de $ x(at) $:\n",
        "\n",
        "   $\n",
        "   \\mathcal{L} \\{ x(at) \\} = \\int_0^{\\infty} x(at) e^{-st} dt\n",
        "   $\n",
        "\n",
        "   Hacemos el cambio de variable $ u = at $, por lo que $ du = a dt $:\n",
        "\n",
        "   $\n",
        "   \\mathcal{L} \\{ x(at) \\} = \\frac{1}{|a|} \\int_0^{\\infty} x(u) e^{-s \\frac{u}{a}} du = \\frac{1}{|a|} X\\left(\\frac{s}{a}\\right)\n",
        "   $\n",
        "\n",
        "\n",
        "3. **$ \\mathcal{L} \\left\\{ \\frac{dx(t)}{dt} \\right\\} = s X(s) $**\n",
        "\n",
        "   **Demostración:**\n",
        "\n",
        "   Utilizando la definición de la transformada de Laplace y la integración por partes:\n",
        "\n",
        "   $\n",
        "   \\mathcal{L} \\left\\{ \\frac{dx(t)}{dt} \\right\\} = \\int_0^{\\infty} \\frac{dx(t)}{dt} e^{-st} dt\n",
        "   $\n",
        "\n",
        "   Aplicando integración por partes:\n",
        "\n",
        "   $\n",
        "   \\mathcal{L} \\left\\{ \\frac{dx(t)}{dt} \\right\\} = \\left[ x(t) e^{-st} \\right]_0^{\\infty} + s \\int_0^{\\infty} x(t) e^{-st} dt = s X(s)\n",
        "   $\n",
        "\n",
        "\n",
        "4. **$ \\mathcal{L} \\{ x(t) * y(t) \\} = X(s) Y(s) $**\n",
        "\n",
        "   **Demostración:**\n",
        "\n",
        "   Definimos la convolución de $ x(t) * y(t) $:\n",
        "\n",
        "   $\n",
        "   (x * y)(t) = \\int_0^t x(\\tau) y(t - \\tau) d\\tau\n",
        "   $\n",
        "\n",
        "   Aplicamos la transformada de Laplace:\n",
        "\n",
        "   $\n",
        "   \\mathcal{L} \\{ x(t) * y(t) \\} = \\int_0^{\\infty} \\left( \\int_0^t x(\\tau) y(t - \\tau) d\\tau \\right) e^{-st} dt\n",
        "   $\n",
        "\n",
        "   Aplicando el teorema de convolución, obtenemos:\n",
        "\n",
        "   $\n",
        "   \\mathcal{L} \\{ x(t) * y(t) \\} = X(s) Y(s)\n",
        "   $\n",
        "\n",
        "\n",
        "## 1.4 Transformada de Laplace, polos, ceros y ROC\n",
        "\n",
        "1. **Señal $ e^{-2t}u(t) + e^{-3t}u(t) $**\n",
        "\n",
        "   La transformada de Laplace de cada término es:\n",
        "\n",
        "   $\n",
        "   \\mathcal{L} \\{ e^{-2t}u(t) \\} = \\frac{1}{s + 2}, \\quad \\mathcal{L} \\{ e^{-3t}u(t) \\} = \\frac{1}{s + 3}\n",
        "   $\n",
        "\n",
        "   La transformada de Laplace total es:\n",
        "\n",
        "   $\n",
        "   X(s) = \\frac{1}{s + 2} + \\frac{1}{s + 3}\n",
        "   $\n",
        "\n",
        "   **Polos**: $ s = -2, s = -3 $\n",
        "\n",
        "   **Ceros**: No hay ceros.\n",
        "\n",
        "   **ROC**: $ \\Re(s) > -2 $\n",
        "\n",
        "2. **Señal $ e^{2t}u(t) + e^{-3t}u(-t) $**\n",
        "\n",
        "   La transformada de Laplace de los términos es:\n",
        "\n",
        "   $\n",
        "   \\mathcal{L} \\{ e^{2t}u(t) \\} = \\frac{1}{s - 2}, \\quad \\mathcal{L} \\{ e^{-3t}u(-t) \\} = \\frac{-1}{s + 3}\n",
        "   $\n",
        "\n",
        "   La transformada de Laplace total es:\n",
        "\n",
        "   $\n",
        "   X(s) = \\frac{1}{s - 2} - \\frac{1}{s + 3}\n",
        "   $\n",
        "\n",
        "   **Polos**: $ s = 2, s = -3 $\n",
        "\n",
        "   **Ceros**: No hay ceros.\n",
        "\n",
        "   **ROC**: $ -3 < \\Re(s) < 2 $\n",
        "\n",
        "3. **Señal $ e^{-3t}u(-|t|) $**\n",
        "\n",
        "   Para esta señal simétrica, la transformada de Laplace se obtiene usando la propiedad de la función exponencial con el escalón unitario:\n",
        "\n",
        "   $\n",
        "   X(s) = \\frac{-2}{s + 3}\n",
        "   $\n",
        "\n",
        "   **Polos**: $ s = -3 $\n",
        "\n",
        "   **Ceros**: No hay ceros.\n",
        "\n",
        "   **ROC**: $ \\Re(s) < -3 $\n",
        "\n",
        "4. **Señal $ e^{-2t} [u(t) - u(t - 5)] $**\n",
        "\n",
        "   Esta es una señal truncada entre $ t = 0 $ y $ t = 5 $. La transformada de Laplace es:\n",
        "\n",
        "   $\n",
        "   X(s) = \\frac{1 - e^{-5(s + 2)}}{s + 2}\n",
        "   $\n",
        "\n",
        "   **Polos**: $ s = -2 $\n",
        "\n",
        "   **Ceros**: Dependen del factor exponencial.\n",
        "\n",
        "   **ROC**: $ \\Re(s) > -2 $\n"
      ],
      "metadata": {
        "id": "PbFicHQrj4xR"
      }
    },
    {
      "cell_type": "markdown",
      "source": [
        "# 1.5 Transformada inversa de La Place\n",
        "- Obtener la transformada inversa de Laplace de\n",
        " manualmente.\n",
        "\n",
        "Obtener la transformada inversa de Laplace de\n",
        "$$  X(s)= \\left\\{ \\frac{1}{(s+1)(s+2)^2} \\right\\} $$\n"
      ],
      "metadata": {
        "id": "BDR_DTT7okP4"
      }
    },
    {
      "cell_type": "code",
      "source": [
        "import sympy as sym\n",
        "%matplotlib inline"
      ],
      "metadata": {
        "id": "RxxR_vP9nglO"
      },
      "execution_count": null,
      "outputs": []
    },
    {
      "cell_type": "code",
      "source": [
        "s = sym.symbols('s', complex=True)\n",
        "t = sym.symbols('t', real=True)\n",
        "\n",
        "X = (1/((s+1)*(s+2)**2))\n",
        "X"
      ],
      "metadata": {
        "colab": {
          "base_uri": "https://localhost:8080/",
          "height": 58
        },
        "id": "fZoHu7BVvAfn",
        "outputId": "48b06124-fe0a-4194-fcb4-8e9506551a44"
      },
      "execution_count": null,
      "outputs": [
        {
          "output_type": "execute_result",
          "data": {
            "text/plain": [
              "1/((s + 1)*(s + 2)**2)"
            ],
            "text/latex": "$\\displaystyle \\frac{1}{\\left(s + 1\\right) \\left(s + 2\\right)^{2}}$"
          },
          "metadata": {},
          "execution_count": 2
        }
      ]
    },
    {
      "cell_type": "code",
      "source": [
        "polos = sym.roots(sym.denom(X))\n",
        "polos"
      ],
      "metadata": {
        "colab": {
          "base_uri": "https://localhost:8080/"
        },
        "id": "h_CJAjFCvHfS",
        "outputId": "979f27fe-93cb-4cec-c26d-26f403db9c2b"
      },
      "execution_count": null,
      "outputs": [
        {
          "output_type": "execute_result",
          "data": {
            "text/plain": [
              "{-1: 1, -2: 2}"
            ]
          },
          "metadata": {},
          "execution_count": 3
        }
      ]
    },
    {
      "cell_type": "code",
      "source": [
        "x1 = sym.inverse_laplace_transform(X, s, t)\n",
        "x1"
      ],
      "metadata": {
        "colab": {
          "base_uri": "https://localhost:8080/",
          "height": 38
        },
        "id": "hk6dp2-tvHbf",
        "outputId": "767bbc05-0359-4a07-ed7d-d8f947efe309"
      },
      "execution_count": null,
      "outputs": [
        {
          "output_type": "execute_result",
          "data": {
            "text/plain": [
              "-t*exp(-2*t)*Heaviside(t) + exp(-t)*Heaviside(t) - exp(-2*t)*Heaviside(t)"
            ],
            "text/latex": "$\\displaystyle - t e^{- 2 t} \\theta\\left(t\\right) + e^{- t} \\theta\\left(t\\right) - e^{- 2 t} \\theta\\left(t\\right)$"
          },
          "metadata": {},
          "execution_count": 4
        }
      ]
    },
    {
      "cell_type": "code",
      "source": [
        "sym.plot(x1, (t, 0, 10), xlabel = '$t$', ylabel = '$x(t)$');"
      ],
      "metadata": {
        "colab": {
          "base_uri": "https://localhost:8080/",
          "height": 484
        },
        "id": "eTs34ciavQFL",
        "outputId": "891e5b2f-76a9-460a-f4e6-85a3818cbfaf"
      },
      "execution_count": null,
      "outputs": [
        {
          "output_type": "display_data",
          "data": {
            "text/plain": [
              "<Figure size 640x480 with 1 Axes>"
            ],
            "image/png": "[encoded data removed]"
          },
          "metadata": {}
        }
      ]
    },
    {
      "cell_type": "markdown",
      "source": [
        "# 1.6 Cuaderno Autofunciones"
      ],
      "metadata": {
        "id": "tMGNYzvPveOk"
      }
    },
    {
      "cell_type": "markdown",
      "source": [
        "# 1. Relación entre $\\lambda$ y la salida obtenida al resolver la EDO\n",
        "\n",
        "Dado que la entrada del sistema es $x(t) = e^{st}$, podemos interpretar que el parámetro $\\lambda = s$. El término $s$ en la entrada representa la frecuencia compleja de la señal, y por lo tanto, está directamente relacionado con la respuesta del sistema.\n",
        "\n",
        "Al resolver la ecuación diferencial ordinaria:\n",
        "\n",
        "$$ a_0 y(t) + a_1 \\frac{d y(t)}{dt} + a_2 \\frac{d^2 y(t)}{dt^2} = e^{st} $$\n",
        "\n",
        "La solución general, en el dominio de Laplace, es:\n",
        "\n",
        "$$ Y(s) = \\frac{X(s)}{a_0 + a_1 s + a_2 s^2} $$\n",
        "\n",
        "Donde $X(s)$ es la transformada de la entrada $x(t)$, es decir, $X(s) = \\frac{1}{s - \\lambda}$.\n",
        "\n",
        "Por lo tanto, la salida en el dominio de Laplace es:\n",
        "\n",
        "$$ Y(s) = \\frac{1}{(s - \\lambda)(a_0 + a_1 s + a_2 s^2)} $$\n",
        "\n",
        "Al aplicar la transformada inversa de Laplace, obtenemos la respuesta temporal del sistema, la cual depende de $\\lambda$, que está relacionado con la frecuencia de la señal de entrada.\n",
        "\n",
        "# 2. Generalización a una EDO de orden arbitrario\n",
        "\n",
        "El mismo procedimiento se puede generalizar para una EDO de orden arbitrario:\n",
        "\n",
        "$$ a_0 y(t) + a_1 \\frac{d y(t)}{dt} + a_2 \\frac{d^2 y(t)}{dt^2} + \\cdots + a_n \\frac{d^n y(t)}{dt^n} = e^{st} $$\n",
        "\n",
        "La solución general para este tipo de ecuaciones será:\n",
        "\n",
        "$$ Y(s) = \\frac{1}{(s - \\lambda)(a_0 + a_1 s + a_2 s^2 + \\cdots + a_n s^n)} $$\n",
        "\n",
        "Donde la relación entre $\\lambda$ y la salida del sistema sigue estando dada por la frecuencia compleja $s$ de la entrada exponencial $e^{st}$.\n",
        "\n",
        "Este método es aplicable para EDOs de cualquier orden, siempre que se resuelva en el dominio de Laplace.\n"
      ],
      "metadata": {
        "id": "XwN8W5jYwViS"
      }
    }
  ]
}