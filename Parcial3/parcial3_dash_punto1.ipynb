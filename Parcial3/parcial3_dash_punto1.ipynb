{
  "nbformat": 4,
  "nbformat_minor": 0,
  "metadata": {
    "colab": {
      "provenance": [],
      "include_colab_link": true
    },
    "kernelspec": {
      "name": "python3",
      "display_name": "Python 3"
    },
    "language_info": {
      "name": "python"
    }
  },
  "cells": [
    {
      "cell_type": "markdown",
      "metadata": {
        "id": "view-in-github",
        "colab_type": "text"
      },
      "source": [
        "<a href=\"https://colab.research.google.com/github/tarboledah/SyS/blob/main/Parcial3/parcial3_dash_punto1.ipynb\" target=\"_parent\"><img src=\"https://colab.research.google.com/assets/colab-badge.svg\" alt=\"Open In Colab\"/></a>"
      ]
    },
    {
      "cell_type": "code",
      "execution_count": 7,
      "metadata": {
        "colab": {
          "base_uri": "https://localhost:8080/"
        },
        "id": "0JtaZtVMNJVR",
        "outputId": "e8b0a1d1-3075-4b68-d1e5-93710dc6081f"
      },
      "outputs": [
        {
          "output_type": "stream",
          "name": "stdout",
          "text": [
            "Collecting pyngrok\n",
            "  Downloading pyngrok-7.2.0-py3-none-any.whl.metadata (7.4 kB)\n",
            "Requirement already satisfied: PyYAML>=5.1 in /usr/local/lib/python3.10/dist-packages (from pyngrok) (6.0.2)\n",
            "Downloading pyngrok-7.2.0-py3-none-any.whl (22 kB)\n",
            "Installing collected packages: pyngrok\n",
            "Successfully installed pyngrok-7.2.0\n"
          ]
        }
      ],
      "source": [
        "!pip install streamlit -q\n",
        "!pip install pyngrok"
      ]
    },
    {
      "cell_type": "code",
      "source": [
        "%%writefile Punto_1.py\n",
        "import streamlit as st\n",
        "import numpy as np\n",
        "import matplotlib.pyplot as plt\n",
        "from scipy import signal\n",
        "\n",
        "# Función para calcular los parámetros del sistema masa-resorte-amortiguador\n",
        "def calcular_parametros(chi, wn):\n",
        "    k = wn**2  # Constante del resorte (N/m)\n",
        "    c = 2 * chi * np.sqrt(m * k)  # Coeficiente de amortiguamiento\n",
        "    return m,c, k\n",
        "\n",
        "# Función para calcular los polos del sistema\n",
        "def calcular_polos(chi, wn):\n",
        "    if chi == 1:\n",
        "        # Polos reales dobles\n",
        "        p1 = p2 = -chi * wn\n",
        "    elif chi < 1:\n",
        "        # Polos complejos conjugados\n",
        "        real = -chi * wn\n",
        "        imag = wn * np.sqrt(1 - chi**2)\n",
        "        p1 = real + 1j * imag\n",
        "        p2 = real - 1j * imag\n",
        "    else:\n",
        "        # Polos reales distintos\n",
        "        p1 = -chi * wn + wn * np.sqrt(chi**2 - 1)\n",
        "        p2 = -chi * wn - wn * np.sqrt(chi**2 - 1)\n",
        "    return p1, p2\n",
        "\n",
        "# Función para determinar el tipo de amortiguamiento\n",
        "def tipo_amortiguamiento(chi):\n",
        "    if chi == 1:\n",
        "        return \"Amortiguamiento crítico\"\n",
        "    elif chi < 1 and chi > 0:\n",
        "        return \"Subamortiguado\"\n",
        "    elif chi > 1:\n",
        "        return \"Sobreamortiguado\"\n",
        "    elif chi == 0:\n",
        "        return \"Oscilatorio\"\n",
        "    else:\n",
        "        return \"Inestable\"\n",
        "\n",
        "# Función para graficar la respuesta del sistema\n",
        "def graficar_respuesta_temporal(chi, wn):\n",
        "    num = [wn**2]\n",
        "    den = [1, 2*chi*wn, wn**2]\n",
        "\n",
        "    system = signal.TransferFunction(num, den)\n",
        "\n",
        "    t, y = signal.step(system)\n",
        "\n",
        "    fig, ax = plt.subplots()\n",
        "    ax.plot(t, y)\n",
        "    ax.set_title(\"Respuesta temporal del sistema masa-resorte-amortiguador\")\n",
        "    ax.set_xlabel(\"Tiempo (s)\")\n",
        "    ax.set_ylabel(\"Desplazamiento (x)\")\n",
        "    st.pyplot(fig)\n",
        "\n",
        "# Función para graficar el diagrama de Bode\n",
        "def graficar_bode(chi, wn):\n",
        "    num = [wn**2]\n",
        "    den = [1, 2*chi*wn, wn**2]\n",
        "\n",
        "    system = signal.TransferFunction(num, den)\n",
        "\n",
        "    w, mag, phase = signal.bode(system)\n",
        "\n",
        "    # Módulo en dB\n",
        "    fig, (ax_mag, ax_phase) = plt.subplots(2, 1, figsize=(8, 6))\n",
        "\n",
        "    ax_mag.semilogx(w, mag)  # Bode magnitude plot\n",
        "    ax_mag.set_title(\"Diagrama de Bode - Magnitud\")\n",
        "    ax_mag.set_ylabel(\"Magnitud (dB)\")\n",
        "\n",
        "    # Fase en grados\n",
        "    ax_phase.semilogx(w, phase)  # Bode phase plot\n",
        "    ax_phase.set_title(\"Diagrama de Bode - Fase\")\n",
        "    ax_phase.set_ylabel(\"Fase (grados)\")\n",
        "    ax_phase.set_xlabel(\"Frecuencia (rad/s)\")\n",
        "\n",
        "    st.pyplot(fig)\n",
        "\n",
        "# Función para graficar la respuesta al impulso\n",
        "def graficar_respuesta_impulso(chi, wn):\n",
        "    num = [wn**2]\n",
        "    den = [1, 2*chi*wn, wn**2]\n",
        "\n",
        "    system = signal.TransferFunction(num, den)\n",
        "\n",
        "    t, y = signal.impulse(system)\n",
        "\n",
        "    fig, ax = plt.subplots()\n",
        "    ax.plot(t, y)\n",
        "    ax.set_title(\"Respuesta al Impulso del sistema\")\n",
        "    ax.set_xlabel(\"Tiempo (s)\")\n",
        "    ax.set_ylabel(\"Amplitud\")\n",
        "    st.pyplot(fig)\n",
        "\n",
        "\n",
        "def graficar_respuesta_escalon(chi, wn):\n",
        "    # Sistema en espacio de estados\n",
        "    num = [wn**2]\n",
        "    den = [1, 2*chi*wn, wn**2]\n",
        "\n",
        "    system = signal.TransferFunction(num, den)\n",
        "\n",
        "    t, y = signal.step(system)\n",
        "\n",
        "    fig, ax = plt.subplots()\n",
        "    ax.plot(t, y)\n",
        "    ax.set_title(\"Respuesta a un Escalón del Sistema Masa-Resorte-Amortiguador\")\n",
        "    ax.set_xlabel(\"Tiempo (s)\")\n",
        "    ax.set_ylabel(\"Desplazamiento (x)\")\n",
        "    st.pyplot(fig)\n",
        "\n",
        "# Interfaz de Streamlit\n",
        "st.title(\"Sistema Masa-resorte-amortiguador\")\n",
        "\n",
        "# Selección del factor de amortiguamiento y la frecuencia natural\n",
        "chi = st.slider(\"Factor de amortiguamiento (chi):\", min_value=-0.5, max_value=2.0, value=1.0, step=0.1)\n",
        "wn = st.slider(\"Frecuencia natural (ωn):\", min_value=0.1, max_value=10.0, value=1.0, step=0.1)\n",
        "m = st.slider(\"Masa (m):\", min_value=0.1, max_value=10.0, value=1.0, step=0.1)\n",
        "\n",
        "# Cálculo de los parámetros mecánicos\n",
        "m,c, k = calcular_parametros(chi, wn)\n",
        "\n",
        "# Cálculo de los polos del sistema\n",
        "p1, p2 = calcular_polos(chi, wn)\n",
        "\n",
        "# Determinar el tipo de amortiguamiento\n",
        "amortiguamiento = tipo_amortiguamiento(chi)\n",
        "\n",
        "# Mostrar resultados\n",
        "st.subheader(\"Parámetros del sistema masa-resorte-amortiguador:\")\n",
        "st.write(f\"Masa (m): {m} kg\")\n",
        "st.write(f\"Coeficiente de amortiguamiento (c): {c:.2f} Ns/m\")\n",
        "st.write(f\"Constante del resorte (k): {k:.2f} N/m\")\n",
        "\n",
        "st.subheader(\"Polos del sistema:\")\n",
        "st.write(f\"Polos: {p1:.2f}, {p2:.2f}\")\n",
        "\n",
        "st.subheader(\"Tipo de amortiguamiento:\")\n",
        "st.write(f\"El sistema es: {amortiguamiento}\")\n",
        "\n",
        "# Graficar la respuesta temporal\n",
        "graficar_respuesta_temporal(chi, wn)\n",
        "\n",
        "# Graficar los polos en el plano complejo\n",
        "fig, ax = plt.subplots()\n",
        "ax.plot([p1.real, p2.real], [p1.imag, p2.imag], 'rx', markersize=12)\n",
        "ax.axhline(0, color='black',linewidth=0.5)\n",
        "ax.axvline(0, color='black',linewidth=0.5)\n",
        "ax.set_title(\"Polos en el plano complejo\")\n",
        "ax.set_xlabel(\"Parte Real\")\n",
        "ax.set_ylabel(\"Parte Imaginaria\")\n",
        "st.pyplot(fig)\n",
        "\n",
        "# Graficar el diagrama de Bode\n",
        "st.subheader(\"Diagrama de Bode\")\n",
        "graficar_bode(chi, wn)\n",
        "\n",
        "# Graficar la respuesta al impulso\n",
        "st.subheader(\"Respuesta al Impulso\")\n",
        "graficar_respuesta_impulso(chi, wn)\n",
        "\n",
        "# Graficar la respuesta al escalon\n",
        "st.subheader(\"Respuesta al escalón\")\n",
        "graficar_respuesta_escalon(chi, wn)\n"
      ],
      "metadata": {
        "colab": {
          "base_uri": "https://localhost:8080/"
        },
        "id": "JElcnAX0NME4",
        "outputId": "2f5aed3b-51ed-46d5-9692-8fce9ce5c20a"
      },
      "execution_count": 50,
      "outputs": [
        {
          "output_type": "stream",
          "name": "stdout",
          "text": [
            "Overwriting Punto_1.py\n"
          ]
        }
      ]
    },
    {
      "cell_type": "code",
      "source": [
        "token='2mrlknjvQjRUIARZ7ocJHYr2JZW_6VQHLEYtmkfeqPhPxyoMA'"
      ],
      "metadata": {
        "id": "D4SxURaGcyNu"
      },
      "execution_count": 53,
      "outputs": []
    },
    {
      "cell_type": "code",
      "source": [
        "from pyngrok import ngrok\n",
        "\n",
        "# Set authentication token (unique per user)\n",
        "ngrok.set_auth_token(token)\n",
        "\n",
        "# Start Streamlit server on a specific port\n",
        "!nohup streamlit run Punto_1.py --server.port 5011 & #colocar nombre del archivo\n",
        "\n",
        "# Start ngrok tunnel to expose the Streamlit server\n",
        "ngrok_tunnel = ngrok.connect(addr='5011', proto='http', bind_tls=True)\n",
        "\n",
        "# Print the URL of the ngrok tunnel\n",
        "print(' * Tunnel URL:', ngrok_tunnel.public_url)"
      ],
      "metadata": {
        "colab": {
          "base_uri": "https://localhost:8080/"
        },
        "id": "_TgxEmrMQRHF",
        "outputId": "15baffa7-ec83-4918-b029-98fb34c2d46c"
      },
      "execution_count": 54,
      "outputs": [
        {
          "output_type": "stream",
          "name": "stdout",
          "text": [
            "nohup: appending output to 'nohup.out'\n",
            " * Tunnel URL: https://b07b-34-122-250-184.ngrok-free.app\n"
          ]
        }
      ]
    }
  ]
}