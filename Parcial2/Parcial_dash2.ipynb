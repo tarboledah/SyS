{
  "nbformat": 4,
  "nbformat_minor": 0,
  "metadata": {
    "colab": {
      "provenance": [],
      "authorship_tag": "ABX9TyMZuaBObsnIQp26SfEq0J5m",
      "include_colab_link": true
    },
    "kernelspec": {
      "name": "python3",
      "display_name": "Python 3"
    },
    "language_info": {
      "name": "python"
    }
  },
  "cells": [
    {
      "cell_type": "markdown",
      "metadata": {
        "id": "view-in-github",
        "colab_type": "text"
      },
      "source": [
        "<a href=\"https://colab.research.google.com/github/tarboledah/SyS/blob/main/Parcial2/Parcial_punto2.ipynb\" target=\"_parent\"><img src=\"https://colab.research.google.com/assets/colab-badge.svg\" alt=\"Open In Colab\"/></a>"
      ]
    },
    {
      "cell_type": "code",
      "source": [
        "!pip install streamlit\n",
        "!pip install pyngrok --upgrade\n"
      ],
      "metadata": {
        "colab": {
          "base_uri": "https://localhost:8080/"
        },
        "id": "9fdem-5Fmsn_",
        "outputId": "b20186fc-e86f-46c3-ade5-691b85ad285c"
      },
      "execution_count": 26,
      "outputs": [
        {
          "output_type": "stream",
          "name": "stdout",
          "text": [
            "Requirement already satisfied: streamlit in /usr/local/lib/python3.10/dist-packages (1.38.0)\n",
            "Requirement already satisfied: altair<6,>=4.0 in /usr/local/lib/python3.10/dist-packages (from streamlit) (4.2.2)\n",
            "Requirement already satisfied: blinker<2,>=1.0.0 in /usr/lib/python3/dist-packages (from streamlit) (1.4)\n",
            "Requirement already satisfied: cachetools<6,>=4.0 in /usr/local/lib/python3.10/dist-packages (from streamlit) (5.5.0)\n",
            "Requirement already satisfied: click<9,>=7.0 in /usr/local/lib/python3.10/dist-packages (from streamlit) (8.1.7)\n",
            "Requirement already satisfied: numpy<3,>=1.20 in /usr/local/lib/python3.10/dist-packages (from streamlit) (1.26.4)\n",
            "Requirement already satisfied: packaging<25,>=20 in /usr/local/lib/python3.10/dist-packages (from streamlit) (24.1)\n",
            "Requirement already satisfied: pandas<3,>=1.3.0 in /usr/local/lib/python3.10/dist-packages (from streamlit) (2.1.4)\n",
            "Requirement already satisfied: pillow<11,>=7.1.0 in /usr/local/lib/python3.10/dist-packages (from streamlit) (9.4.0)\n",
            "Requirement already satisfied: protobuf<6,>=3.20 in /usr/local/lib/python3.10/dist-packages (from streamlit) (3.20.3)\n",
            "Requirement already satisfied: pyarrow>=7.0 in /usr/local/lib/python3.10/dist-packages (from streamlit) (14.0.2)\n",
            "Requirement already satisfied: requests<3,>=2.27 in /usr/local/lib/python3.10/dist-packages (from streamlit) (2.32.3)\n",
            "Requirement already satisfied: rich<14,>=10.14.0 in /usr/local/lib/python3.10/dist-packages (from streamlit) (13.8.0)\n",
            "Requirement already satisfied: tenacity<9,>=8.1.0 in /usr/local/lib/python3.10/dist-packages (from streamlit) (8.5.0)\n",
            "Requirement already satisfied: toml<2,>=0.10.1 in /usr/local/lib/python3.10/dist-packages (from streamlit) (0.10.2)\n",
            "Requirement already satisfied: typing-extensions<5,>=4.3.0 in /usr/local/lib/python3.10/dist-packages (from streamlit) (4.12.2)\n",
            "Requirement already satisfied: gitpython!=3.1.19,<4,>=3.0.7 in /usr/local/lib/python3.10/dist-packages (from streamlit) (3.1.43)\n",
            "Requirement already satisfied: pydeck<1,>=0.8.0b4 in /usr/local/lib/python3.10/dist-packages (from streamlit) (0.9.1)\n",
            "Requirement already satisfied: tornado<7,>=6.0.3 in /usr/local/lib/python3.10/dist-packages (from streamlit) (6.3.3)\n",
            "Requirement already satisfied: watchdog<5,>=2.1.5 in /usr/local/lib/python3.10/dist-packages (from streamlit) (4.0.2)\n",
            "Requirement already satisfied: entrypoints in /usr/local/lib/python3.10/dist-packages (from altair<6,>=4.0->streamlit) (0.4)\n",
            "Requirement already satisfied: jinja2 in /usr/local/lib/python3.10/dist-packages (from altair<6,>=4.0->streamlit) (3.1.4)\n",
            "Requirement already satisfied: jsonschema>=3.0 in /usr/local/lib/python3.10/dist-packages (from altair<6,>=4.0->streamlit) (4.23.0)\n",
            "Requirement already satisfied: toolz in /usr/local/lib/python3.10/dist-packages (from altair<6,>=4.0->streamlit) (0.12.1)\n",
            "Requirement already satisfied: gitdb<5,>=4.0.1 in /usr/local/lib/python3.10/dist-packages (from gitpython!=3.1.19,<4,>=3.0.7->streamlit) (4.0.11)\n",
            "Requirement already satisfied: python-dateutil>=2.8.2 in /usr/local/lib/python3.10/dist-packages (from pandas<3,>=1.3.0->streamlit) (2.8.2)\n",
            "Requirement already satisfied: pytz>=2020.1 in /usr/local/lib/python3.10/dist-packages (from pandas<3,>=1.3.0->streamlit) (2024.1)\n",
            "Requirement already satisfied: tzdata>=2022.1 in /usr/local/lib/python3.10/dist-packages (from pandas<3,>=1.3.0->streamlit) (2024.1)\n",
            "Requirement already satisfied: charset-normalizer<4,>=2 in /usr/local/lib/python3.10/dist-packages (from requests<3,>=2.27->streamlit) (3.3.2)\n",
            "Requirement already satisfied: idna<4,>=2.5 in /usr/local/lib/python3.10/dist-packages (from requests<3,>=2.27->streamlit) (3.8)\n",
            "Requirement already satisfied: urllib3<3,>=1.21.1 in /usr/local/lib/python3.10/dist-packages (from requests<3,>=2.27->streamlit) (2.2.2)\n",
            "Requirement already satisfied: certifi>=2017.4.17 in /usr/local/lib/python3.10/dist-packages (from requests<3,>=2.27->streamlit) (2024.8.30)\n",
            "Requirement already satisfied: markdown-it-py>=2.2.0 in /usr/local/lib/python3.10/dist-packages (from rich<14,>=10.14.0->streamlit) (3.0.0)\n",
            "Requirement already satisfied: pygments<3.0.0,>=2.13.0 in /usr/local/lib/python3.10/dist-packages (from rich<14,>=10.14.0->streamlit) (2.16.1)\n",
            "Requirement already satisfied: smmap<6,>=3.0.1 in /usr/local/lib/python3.10/dist-packages (from gitdb<5,>=4.0.1->gitpython!=3.1.19,<4,>=3.0.7->streamlit) (5.0.1)\n",
            "Requirement already satisfied: MarkupSafe>=2.0 in /usr/local/lib/python3.10/dist-packages (from jinja2->altair<6,>=4.0->streamlit) (2.1.5)\n",
            "Requirement already satisfied: attrs>=22.2.0 in /usr/local/lib/python3.10/dist-packages (from jsonschema>=3.0->altair<6,>=4.0->streamlit) (24.2.0)\n",
            "Requirement already satisfied: jsonschema-specifications>=2023.03.6 in /usr/local/lib/python3.10/dist-packages (from jsonschema>=3.0->altair<6,>=4.0->streamlit) (2023.12.1)\n",
            "Requirement already satisfied: referencing>=0.28.4 in /usr/local/lib/python3.10/dist-packages (from jsonschema>=3.0->altair<6,>=4.0->streamlit) (0.35.1)\n",
            "Requirement already satisfied: rpds-py>=0.7.1 in /usr/local/lib/python3.10/dist-packages (from jsonschema>=3.0->altair<6,>=4.0->streamlit) (0.20.0)\n",
            "Requirement already satisfied: mdurl~=0.1 in /usr/local/lib/python3.10/dist-packages (from markdown-it-py>=2.2.0->rich<14,>=10.14.0->streamlit) (0.1.2)\n",
            "Requirement already satisfied: six>=1.5 in /usr/local/lib/python3.10/dist-packages (from python-dateutil>=2.8.2->pandas<3,>=1.3.0->streamlit) (1.16.0)\n",
            "Collecting pyngrok\n",
            "  Downloading pyngrok-7.2.0-py3-none-any.whl.metadata (7.4 kB)\n",
            "Requirement already satisfied: PyYAML>=5.1 in /usr/local/lib/python3.10/dist-packages (from pyngrok) (6.0.2)\n",
            "Downloading pyngrok-7.2.0-py3-none-any.whl (22 kB)\n",
            "Installing collected packages: pyngrok\n",
            "Successfully installed pyngrok-7.2.0\n"
          ]
        }
      ]
    },
    {
      "cell_type": "code",
      "source": [
        "%%writefile Parcial_punto2.py\n",
        "import numpy as np\n",
        "import matplotlib.pyplot as plt\n",
        "import streamlit as st\n",
        "\n",
        "# Título del Dashboard\n",
        "st.title('Visualización de Señal y Transformada de Fourier')\n",
        "\n",
        "# 1. Parámetros ajustables por el usuario\n",
        "st.sidebar.header('Parámetros de la Señal')\n",
        "A = st.sidebar.slider('Amplitud (A)', min_value=0.1, max_value=5.0, value=1.0, step=0.1)\n",
        "Fo = st.sidebar.slider('Frecuencia de la Señal (Fo)', min_value=1, max_value=10, value=5, step=1)\n",
        "Fs = st.sidebar.slider('Frecuencia de Muestreo (Fs)', min_value=100, max_value=5000, value=1000, step=100)\n",
        "N_max = st.sidebar.slider('Número de Términos de Fourier (N_max)', min_value=10, max_value=100, value=50, step=10)\n",
        "\n",
        "# 2. Calculo de la señal en el tiempo\n",
        "T = 1/Fo  # Periodo\n",
        "t = np.arange(-T/2, T/2, 1/Fs)  # Vector de tiempo generado\n",
        "x_t = (A * np.sin(2 * np.pi * Fo * t))**2  # Señal\n",
        "\n",
        "# 3. Gráfico de la señal en el tiempo\n",
        "st.subheader('Señal en el dominio del tiempo')\n",
        "plt.figure(figsize=(10, 4))\n",
        "plt.plot(t, x_t, 'r', linewidth=2)\n",
        "plt.grid()\n",
        "plt.xlabel(\"t [s]\", fontsize=14)\n",
        "plt.ylabel(\"x(t)\", fontsize=14)\n",
        "plt.title(\"Señal x(t) = |A * sin(2 * pi * Fo * t)|^2\")\n",
        "st.pyplot(plt.gcf())\n",
        "\n",
        "# 4. Transformada de Fourier\n",
        "st.subheader('Transformada de Fourier (FFT)')\n",
        "X_f = np.fft.fft(x_t)\n",
        "freqs = np.fft.fftfreq(len(t), d=t[1]-t[0])\n",
        "X_f = np.fft.fftshift(X_f)\n",
        "freqs = np.fft.fftshift(freqs)\n",
        "\n",
        "# Magnitud y fase\n",
        "magnitude = np.abs(X_f)\n",
        "phase = np.angle(X_f)\n",
        "\n",
        "# Graficar espectro de magnitud y fase\n",
        "plt.figure(figsize=(12, 6))\n",
        "plt.subplot(2, 1, 1)\n",
        "plt.plot(freqs, 20 * np.log10(magnitude + 1e-12))  # Magnitud en dB\n",
        "plt.title('Espectro de Magnitud (Decibelios)')\n",
        "plt.xlabel('Frecuencia (Hz)')\n",
        "plt.ylabel('Magnitud (dB)')\n",
        "plt.grid(True)\n",
        "\n",
        "plt.subplot(2, 1, 2)\n",
        "plt.plot(freqs, phase)  # Fase\n",
        "plt.title('Espectro de Fase')\n",
        "plt.xlabel('Frecuencia (Hz)')\n",
        "plt.ylabel('Fase (radianes)')\n",
        "plt.grid(True)\n",
        "st.pyplot(plt.gcf())\n",
        "\n",
        "# 5. Reconstrucción de la señal con diferentes N\n",
        "st.subheader('Reconstrucción de la Señal con Serie de Fourier')\n",
        "error_relativo = []\n",
        "\n",
        "for N in range(1, N_max + 1):\n",
        "    X_f_filtered = np.copy(X_f)\n",
        "    X_f_filtered[N:] = 0  # Mantener solo las primeras N componentes\n",
        "    x_reconstructed = np.fft.ifft(np.fft.ifftshift(X_f_filtered))\n",
        "    error = np.linalg.norm(x_t - x_reconstructed) / np.linalg.norm(x_t)\n",
        "    error_relativo.append(error)\n",
        "\n",
        "    # Graficar para valores específicos de N\n",
        "    if N in [1, 5, 10, 20, 50]:\n",
        "        plt.figure()\n",
        "        plt.plot(t, x_t, label='Señal Original')\n",
        "        plt.plot(t, x_reconstructed.real, label=f'Señal Reconstruida (N={N})', linestyle='--')\n",
        "        plt.title(f'Reconstrucción de la Señal con N={N}')\n",
        "        plt.xlabel('Tiempo (s)')\n",
        "        plt.ylabel('Amplitud')\n",
        "        plt.legend()\n",
        "        plt.grid(True)\n",
        "        st.pyplot(plt.gcf())\n",
        "\n",
        "# 6. Graficar el error relativo\n",
        "st.subheader('Error Relativo de Reconstrucción')\n",
        "plt.figure()\n",
        "plt.plot(range(1, N_max + 1), error_relativo)\n",
        "plt.title('Error Relativo de Reconstrucción')\n",
        "plt.xlabel('Número de Términos (N)')\n",
        "plt.ylabel('Error Relativo')\n",
        "plt.grid(True)\n",
        "st.pyplot(plt.gcf())\n"
      ],
      "metadata": {
        "colab": {
          "base_uri": "https://localhost:8080/"
        },
        "id": "E-Mk91FvmuC_",
        "outputId": "fa00147d-3895-48c7-ccd9-99db88e0332d"
      },
      "execution_count": 31,
      "outputs": [
        {
          "output_type": "stream",
          "name": "stdout",
          "text": [
            "Writing Parcial_punto2.py\n"
          ]
        }
      ]
    },
    {
      "cell_type": "code",
      "source": [
        "!streamlit run Parcial_punto2.py &>/content/logs.txt & curl ipv4.icanhazip.com"
      ],
      "metadata": {
        "colab": {
          "base_uri": "https://localhost:8080/"
        },
        "id": "hYG6x27Zntb_",
        "outputId": "39695abb-8e13-4623-d62d-c521384b17f5"
      },
      "execution_count": 33,
      "outputs": [
        {
          "output_type": "stream",
          "name": "stdout",
          "text": [
            "34.83.158.31\n"
          ]
        }
      ]
    },
    {
      "cell_type": "code",
      "source": [
        "!npx localtunnel --port 8501"
      ],
      "metadata": {
        "colab": {
          "base_uri": "https://localhost:8080/"
        },
        "id": "Zdt9yBAIoayu",
        "outputId": "f6f0edc6-9c45-491a-ce2b-b0bce1be729a"
      },
      "execution_count": 34,
      "outputs": [
        {
          "output_type": "stream",
          "name": "stdout",
          "text": [
            "your url is: https://warm-pianos-smile.loca.lt\n",
            "^C\n"
          ]
        }
      ]
    },
    {
      "cell_type": "code",
      "source": [],
      "metadata": {
        "id": "ZxrJAuGoob93"
      },
      "execution_count": null,
      "outputs": []
    }
  ]
}
