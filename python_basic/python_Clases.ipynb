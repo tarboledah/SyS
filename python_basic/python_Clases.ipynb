{
  "nbformat": 4,
  "nbformat_minor": 0,
  "metadata": {
    "colab": {
      "provenance": []
    },
    "kernelspec": {
      "name": "python3",
      "display_name": "Python 3"
    },
    "language_info": {
      "name": "python"
    }
  },
  "cells": [
    {
      "cell_type": "code",
      "source": [
        "#Ejercicio1\n",
        "\n",
        "class Persona:\n",
        "    Nombre=str(input('Por favor, digite su nombre: '))\n",
        "    Edad=int(input('Por favor, digite su edad: '))\n",
        "    Género=str(input('Por favor, digite su género: '))\n",
        "    def Saludar(self):\n",
        "      print('Hola a todos.')\n",
        "    def Presentar(self):\n",
        "      print('A continuación me voy a presentar.')\n",
        "\n",
        "Presentación=Persona()\n",
        "Presentación.Saludar()\n",
        "Presentación.Presentar()\n",
        "print(f'Mi nombre es {Presentación.Nombre}, tengo {Presentación.Edad} años de edad y soy de género {Presentación.Género}.')"
      ],
      "metadata": {
        "colab": {
          "base_uri": "https://localhost:8080/"
        },
        "id": "hNPh3OLG9ELj",
        "outputId": "39165b35-760d-44eb-c3fe-266d7003c531"
      },
      "execution_count": null,
      "outputs": [
        {
          "output_type": "stream",
          "name": "stdout",
          "text": [
            "Por favor, digite su nombre: Mateo\n",
            "Por favor, digite su edad: 24\n",
            "Por favor, digite su género: M\n",
            "Hola a todos.\n",
            "A continuación me voy a presentar.\n",
            "Mi nombre es Mateo, tengo 24 años de edad y soy de género M.\n"
          ]
        }
      ]
    },
    {
      "cell_type": "code",
      "source": [
        "#Ejercicio2\n",
        "\n",
        "class Carro:\n",
        "    Marca=str(input('Por favor, digite la marca de su vehículo: '))\n",
        "    Modelo=str(input('Por favor, digite el modelo de su vehículo: '))\n",
        "    Año=int(input('Por favor, digite el año de su vehículo: '))\n",
        "    Kilometraje=int(input('Por favor, digite el kilometraje de su vehículo: '))\n",
        "    def Arrancar(self):\n",
        "      print('Su vehículo está arrancando.')\n",
        "    def Acelerar(self):\n",
        "      print('Su vehículo está acelerando.')\n",
        "    def Frenar(self):\n",
        "      print('Su vehículo está frenando.')\n",
        "\n",
        "Vehículo=Carro()\n",
        "print(f'Su vehículo es {Vehículo.Marca} {Vehículo.Modelo} - {Vehículo.Año}, con un kilometraje de {Vehículo.Kilometraje}.')\n",
        "Vehículo.Arrancar()\n",
        "Vehículo.Acelerar()\n",
        "Vehículo.Frenar()"
      ],
      "metadata": {
        "colab": {
          "base_uri": "https://localhost:8080/"
        },
        "id": "nPQ2aA-O_PuF",
        "outputId": "909006a9-f1cc-4c63-e099-87cc62445a8e"
      },
      "execution_count": null,
      "outputs": [
        {
          "output_type": "stream",
          "name": "stdout",
          "text": [
            "Por favor, digite la marca de su vehículo: Mazda\n",
            "Por favor, digite el modelo de su vehículo: 4\n",
            "Por favor, digite el año de su vehículo: 2021\n",
            "Por favor, digite el kilometraje de su vehículo: 1100\n",
            "Su vehículo es Mazda 4 - 2021, con un kilometraje de 1100.\n",
            "Su vehículo está arrancando.\n",
            "Su vehículo está acelerando.\n",
            "Su vehículo está frenando.\n"
          ]
        }
      ]
    },
    {
      "cell_type": "code",
      "source": [
        "#Ejercicio3\n",
        "\n",
        "class Rectángulo:\n",
        "    Longitud=int(input('Por favor, digite la longitud del rectángulo: '))\n",
        "    Ancho=int(input('Por favor, digite el ancho del rectángulo: '))\n",
        "    def Área(self):\n",
        "      Área=self.Longitud*self.Ancho\n",
        "    def Perímetro(self):\n",
        "      Perímetro=(self.Longitud*2)+(self.Ancho*2)\n",
        "\n",
        "Resultado=Rectángulo()\n",
        "Resultado.Perímetro()\n",
        "Resultado.Área()\n",
        "print(f'El perímetro de su rectángulo es: {Resultado.Perímetro}. El área de su rectángulo es: {Resultado.Área}.')"
      ],
      "metadata": {
        "colab": {
          "base_uri": "https://localhost:8080/"
        },
        "id": "3cZUIvLOKZJ4",
        "outputId": "7fd8ba74-1ffa-4a0f-ae49-5617303831a6"
      },
      "execution_count": null,
      "outputs": [
        {
          "output_type": "stream",
          "name": "stdout",
          "text": [
            "Por favor, digite la longitud del rectángulo: 4\n",
            "Por favor, digite el ancho del rectángulo: 2\n",
            "El perímetro de su rectángulo es: <bound method Rectángulo.Perímetro of <__main__.Rectángulo object at 0x7ac4d0a84d60>>. El área de su rectángulo es: <bound method Rectángulo.Área of <__main__.Rectángulo object at 0x7ac4d0a84d60>>.\n"
          ]
        }
      ]
    },
    {
      "cell_type": "code",
      "source": [
        "#Ejercicio4\n",
        "\n",
        "class Banco:\n",
        "    Nombre=str(input('Por favor, digite su nombre: '))\n",
        "    Dirección=(input('Por favor, digite su dirección: '))\n",
        "\n",
        "    def Abrir(self):\n",
        "      A=int(input('¿Desea abrir una cuenta bancaria? Oprima 1 si desea y 2 si no desea: '))\n",
        "      if A==1:\n",
        "        print(f'Su cuenta bancaria ha sido creada de manera correcta a nombre de {self.Nombre}, en la dirección {self.Dirección}.')\n",
        "      else:\n",
        "        print('Usted ya tiene una cuenta registrada.')\n",
        "    def Depositar(self):\n",
        "      Acumulador=0\n",
        "      A=int(input('¿Desea depositar dinero (en COP$) a su cuenta bancaria? Oprima 1 si desea y 2 si no desea: '))\n",
        "      if A==1:\n",
        "        D=int(input('Por favor, digite la cantidad de dinero (en COP$) que desea depositar a su cuenta bancaria: '))\n",
        "        Acumulador+=D\n",
        "        print(f'El saldo actual (en COP$) de su cuenta bancaria es: ',Acumulador)\n",
        "    def Retirar(self):\n",
        "      A=int(input('¿Desea retirar dinero de su cuenta bancaria? Oprima 1 si desea y 2 si no desea: '))\n",
        "      if A==1:\n",
        "        R=int(input('Por favor, digite la cantidad de dinero (en COP$) que desea retirar de su cuenta bancaria: '))\n",
        "        Acumulador-=R\n",
        "        print(f'Su retiro fue exitoso y el saldo actual (en COP$) de su cuenta bancaria es:',Acumulador)\n",
        "    def Revisar(self):\n",
        "      A=int(input('¿Desea revisar el saldo actual (en COP$) de su cuenta bancaria? Oprima 1 si desea y 2 si no desea:'))\n",
        "      if A==1:\n",
        "        print(f'El saldo actual (en COP$) de su cuenta bancaria es:',)\n",
        "\n",
        "Saldo=Banco()\n",
        "Saldo.Abrir()\n",
        "Saldo.Depositar()\n",
        "Saldo.Retirar()\n",
        "Saldo.Revisar()"
      ],
      "metadata": {
        "colab": {
          "base_uri": "https://localhost:8080/",
          "height": 390
        },
        "id": "FvQGThdHRYEw",
        "outputId": "d66b0c4b-9d88-45ec-ab15-0e63e561f2c1"
      },
      "execution_count": null,
      "outputs": [
        {
          "output_type": "error",
          "ename": "KeyboardInterrupt",
          "evalue": "ignored",
          "traceback": [
            "\u001b[0;31m---------------------------------------------------------------------------\u001b[0m",
            "\u001b[0;31mKeyboardInterrupt\u001b[0m                         Traceback (most recent call last)",
            "\u001b[0;32m<ipython-input-1-b63362c441e0>\u001b[0m in \u001b[0;36m<cell line: 3>\u001b[0;34m()\u001b[0m\n\u001b[1;32m      1\u001b[0m \u001b[0;31m#Ejercicio 4\u001b[0m\u001b[0;34m\u001b[0m\u001b[0;34m\u001b[0m\u001b[0m\n\u001b[1;32m      2\u001b[0m \u001b[0;34m\u001b[0m\u001b[0m\n\u001b[0;32m----> 3\u001b[0;31m \u001b[0;32mclass\u001b[0m \u001b[0mBanco\u001b[0m\u001b[0;34m:\u001b[0m\u001b[0;34m\u001b[0m\u001b[0;34m\u001b[0m\u001b[0m\n\u001b[0m\u001b[1;32m      4\u001b[0m     \u001b[0mNombre\u001b[0m\u001b[0;34m=\u001b[0m\u001b[0mstr\u001b[0m\u001b[0;34m(\u001b[0m\u001b[0minput\u001b[0m\u001b[0;34m(\u001b[0m\u001b[0;34m'Por favor, digite su nombre: '\u001b[0m\u001b[0;34m)\u001b[0m\u001b[0;34m)\u001b[0m\u001b[0;34m\u001b[0m\u001b[0;34m\u001b[0m\u001b[0m\n\u001b[1;32m      5\u001b[0m     \u001b[0mDirección\u001b[0m\u001b[0;34m=\u001b[0m\u001b[0;34m(\u001b[0m\u001b[0minput\u001b[0m\u001b[0;34m(\u001b[0m\u001b[0;34m'Por favor, digite su dirección: '\u001b[0m\u001b[0;34m)\u001b[0m\u001b[0;34m)\u001b[0m\u001b[0;34m\u001b[0m\u001b[0;34m\u001b[0m\u001b[0m\n",
            "\u001b[0;32m<ipython-input-1-b63362c441e0>\u001b[0m in \u001b[0;36mBanco\u001b[0;34m()\u001b[0m\n\u001b[1;32m      2\u001b[0m \u001b[0;34m\u001b[0m\u001b[0m\n\u001b[1;32m      3\u001b[0m \u001b[0;32mclass\u001b[0m \u001b[0mBanco\u001b[0m\u001b[0;34m:\u001b[0m\u001b[0;34m\u001b[0m\u001b[0;34m\u001b[0m\u001b[0m\n\u001b[0;32m----> 4\u001b[0;31m     \u001b[0mNombre\u001b[0m\u001b[0;34m=\u001b[0m\u001b[0mstr\u001b[0m\u001b[0;34m(\u001b[0m\u001b[0minput\u001b[0m\u001b[0;34m(\u001b[0m\u001b[0;34m'Por favor, digite su nombre: '\u001b[0m\u001b[0;34m)\u001b[0m\u001b[0;34m)\u001b[0m\u001b[0;34m\u001b[0m\u001b[0;34m\u001b[0m\u001b[0m\n\u001b[0m\u001b[1;32m      5\u001b[0m     \u001b[0mDirección\u001b[0m\u001b[0;34m=\u001b[0m\u001b[0;34m(\u001b[0m\u001b[0minput\u001b[0m\u001b[0;34m(\u001b[0m\u001b[0;34m'Por favor, digite su dirección: '\u001b[0m\u001b[0;34m)\u001b[0m\u001b[0;34m)\u001b[0m\u001b[0;34m\u001b[0m\u001b[0;34m\u001b[0m\u001b[0m\n\u001b[1;32m      6\u001b[0m \u001b[0;34m\u001b[0m\u001b[0m\n",
            "\u001b[0;32m/usr/local/lib/python3.10/dist-packages/ipykernel/kernelbase.py\u001b[0m in \u001b[0;36mraw_input\u001b[0;34m(self, prompt)\u001b[0m\n\u001b[1;32m    849\u001b[0m                 \u001b[0;34m\"raw_input was called, but this frontend does not support input requests.\"\u001b[0m\u001b[0;34m\u001b[0m\u001b[0;34m\u001b[0m\u001b[0m\n\u001b[1;32m    850\u001b[0m             )\n\u001b[0;32m--> 851\u001b[0;31m         return self._input_request(str(prompt),\n\u001b[0m\u001b[1;32m    852\u001b[0m             \u001b[0mself\u001b[0m\u001b[0;34m.\u001b[0m\u001b[0m_parent_ident\u001b[0m\u001b[0;34m,\u001b[0m\u001b[0;34m\u001b[0m\u001b[0;34m\u001b[0m\u001b[0m\n\u001b[1;32m    853\u001b[0m             \u001b[0mself\u001b[0m\u001b[0;34m.\u001b[0m\u001b[0m_parent_header\u001b[0m\u001b[0;34m,\u001b[0m\u001b[0;34m\u001b[0m\u001b[0;34m\u001b[0m\u001b[0m\n",
            "\u001b[0;32m/usr/local/lib/python3.10/dist-packages/ipykernel/kernelbase.py\u001b[0m in \u001b[0;36m_input_request\u001b[0;34m(self, prompt, ident, parent, password)\u001b[0m\n\u001b[1;32m    893\u001b[0m             \u001b[0;32mexcept\u001b[0m \u001b[0mKeyboardInterrupt\u001b[0m\u001b[0;34m:\u001b[0m\u001b[0;34m\u001b[0m\u001b[0;34m\u001b[0m\u001b[0m\n\u001b[1;32m    894\u001b[0m                 \u001b[0;31m# re-raise KeyboardInterrupt, to truncate traceback\u001b[0m\u001b[0;34m\u001b[0m\u001b[0;34m\u001b[0m\u001b[0m\n\u001b[0;32m--> 895\u001b[0;31m                 \u001b[0;32mraise\u001b[0m \u001b[0mKeyboardInterrupt\u001b[0m\u001b[0;34m(\u001b[0m\u001b[0;34m\"Interrupted by user\"\u001b[0m\u001b[0;34m)\u001b[0m \u001b[0;32mfrom\u001b[0m \u001b[0;32mNone\u001b[0m\u001b[0;34m\u001b[0m\u001b[0;34m\u001b[0m\u001b[0m\n\u001b[0m\u001b[1;32m    896\u001b[0m             \u001b[0;32mexcept\u001b[0m \u001b[0mException\u001b[0m \u001b[0;32mas\u001b[0m \u001b[0me\u001b[0m\u001b[0;34m:\u001b[0m\u001b[0;34m\u001b[0m\u001b[0;34m\u001b[0m\u001b[0m\n\u001b[1;32m    897\u001b[0m                 \u001b[0mself\u001b[0m\u001b[0;34m.\u001b[0m\u001b[0mlog\u001b[0m\u001b[0;34m.\u001b[0m\u001b[0mwarning\u001b[0m\u001b[0;34m(\u001b[0m\u001b[0;34m\"Invalid Message:\"\u001b[0m\u001b[0;34m,\u001b[0m \u001b[0mexc_info\u001b[0m\u001b[0;34m=\u001b[0m\u001b[0;32mTrue\u001b[0m\u001b[0;34m)\u001b[0m\u001b[0;34m\u001b[0m\u001b[0;34m\u001b[0m\u001b[0m\n",
            "\u001b[0;31mKeyboardInterrupt\u001b[0m: Interrupted by user"
          ]
        }
      ]
    },
    {
      "cell_type": "code",
      "source": [
        "#Ejercicio5\n",
        "\n",
        "class Estudiante:\n",
        "    Nombre=str(input('Por favor, digite su nombre: '))\n",
        "    Edad=int(input('Por favor, digite su edad: '))\n",
        "    Promedio=float(input('Por favor, digite su promedio: '))\n",
        "    def Estudiar(self):\n",
        "      print(f'{self.Nombre} está estudiando.')\n",
        "    def Tarea(self):\n",
        "      print(f'{self.Nombre} debe hacer tareas.')\n",
        "    def Exámen(self):\n",
        "      print(f'{self.Nombre} presentó todos los exámenes.')\n",
        "\n",
        "Universidad=Estudiante()\n",
        "Universidad.Estudiar()\n",
        "Universidad.Tarea()\n",
        "Universidad.Exámen()"
      ],
      "metadata": {
        "id": "NLVNtjSAKGTZ",
        "outputId": "b7198eb3-8a51-4f6d-921c-944e17e3ecf3",
        "colab": {
          "base_uri": "https://localhost:8080/"
        }
      },
      "execution_count": null,
      "outputs": [
        {
          "output_type": "stream",
          "name": "stdout",
          "text": [
            "Por favor, digite su nombre: Mateo\n",
            "Por favor, digite su edad: 24\n",
            "Por favor, digite su promedio: 3.8\n",
            "Mateo está estudiando.\n",
            "Mateo debe hacer tareas.\n",
            "Mateo presentó todos los exámenes.\n"
          ]
        }
      ]
    }
  ]
}