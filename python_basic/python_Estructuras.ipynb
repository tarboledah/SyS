{
  "nbformat": 4,
  "nbformat_minor": 0,
  "metadata": {
    "colab": {
      "provenance": []
    },
    "kernelspec": {
      "name": "python3",
      "display_name": "Python 3"
    },
    "language_info": {
      "name": "python"
    }
  },
  "cells": [
    {
      "cell_type": "code",
      "execution_count": null,
      "metadata": {
        "colab": {
          "base_uri": "https://localhost:8080/"
        },
        "id": "0Cj7v-g597AZ",
        "outputId": "d5a654be-0dff-419a-d925-a57253704f36"
      },
      "outputs": [
        {
          "output_type": "stream",
          "name": "stdout",
          "text": [
            "Digite la cantidad de elementos: 2\n",
            "Ingrese un elemento: 4\n",
            "Ingrese un elemento: 5\n",
            "El valor de la suma de los números impares ingresados es: 5\n"
          ]
        }
      ],
      "source": [
        "#Ejercicio1\n",
        "\n",
        "def Impar(Lista):\n",
        "  Acumulador=0\n",
        "  for i in range(Elementos):\n",
        "    if Lista[i]%2==1:\n",
        "      Acumulador+=Lista[i]\n",
        "  return Acumulador\n",
        "\n",
        "Lista=[]\n",
        "Contador=0\n",
        "Elementos=int(input('Por favor, digite la cantidad de elementos: '))\n",
        "while Contador<Elementos:\n",
        "  x=int(input('Por favor, ingrese un elemento: '))\n",
        "  Lista.append(x)\n",
        "  Contador+=1\n",
        "\n",
        "Acumulador=Impar(Lista)\n",
        "print('El valor de la suma de los números impares ingresados es:',Acumulador)"
      ]
    },
    {
      "cell_type": "code",
      "source": [
        "#Ejercicio2\n",
        "\n",
        "def Repetida(Lista):\n",
        "  Diccionario={}\n",
        "  for i in range(Palabras):\n",
        "    if Lista[i] not in Diccionario:\n",
        "      Diccionario[Lista[i]]=1\n",
        "    elif Lista[i] in Diccionario:\n",
        "      Diccionario[Lista[i]]+=1\n",
        "  return Diccionario\n",
        "\n",
        "Lista=[]\n",
        "Contador=0\n",
        "Palabras=int(input('Por favor, ingrese la cantidad de palabras: '))\n",
        "while Contador<Palabras:\n",
        "  x=str(input('Por favor, ingrese una palabra que desee almacenar en la lista: '))\n",
        "  Lista.append(x)\n",
        "  Contador+=1\n",
        "\n",
        "Diccionario=Repetida(Lista)\n",
        "print('Lista: ',Lista)\n",
        "print(Diccionario)"
      ],
      "metadata": {
        "id": "UEgVJf6tuNFa",
        "outputId": "0e3481f9-369d-4106-8ae3-b49d9ccd10df",
        "colab": {
          "base_uri": "https://localhost:8080/"
        }
      },
      "execution_count": null,
      "outputs": [
        {
          "output_type": "stream",
          "name": "stdout",
          "text": [
            "Por favor, ingrese la cantidad de palabras: 4\n",
            "Por favor, ingrese una palabra que desee almacenar en la lista: m\n",
            "Por favor, ingrese una palabra que desee almacenar en la lista: p\n",
            "Por favor, ingrese una palabra que desee almacenar en la lista: o\n",
            "Por favor, ingrese una palabra que desee almacenar en la lista: m\n",
            "Lista:  ['m', 'p', 'o', 'm']\n",
            "{'m': 2, 'p': 1, 'o': 1}\n"
          ]
        }
      ]
    }
  ]
}