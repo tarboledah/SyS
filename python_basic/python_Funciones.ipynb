{
  "nbformat": 4,
  "nbformat_minor": 0,
  "metadata": {
    "colab": {
      "provenance": []
    },
    "kernelspec": {
      "name": "python3",
      "display_name": "Python 3"
    },
    "language_info": {
      "name": "python"
    }
  },
  "cells": [
    {
      "cell_type": "code",
      "execution_count": null,
      "metadata": {
        "colab": {
          "base_uri": "https://localhost:8080/"
        },
        "id": "4SiukPXiqVB7",
        "outputId": "e3ae66e4-191f-4ac2-f7c3-22d70193b8e3"
      },
      "outputs": [
        {
          "output_type": "stream",
          "name": "stdout",
          "text": [
            "Por favor, digite el valor del primer lado: 2\n",
            "Por favor, digite el valor del segundo lado: 3\n",
            "Por favor, digite el valor del tercer lado: 4\n",
            "2.9\n"
          ]
        }
      ],
      "source": [
        "#Ejercicio1\n",
        "\n",
        "from math import sqrt\n",
        "\n",
        "s1=int(input('Por favor, digite el valor del primer lado: '))\n",
        "s2=int(input('Por favor, digite el valor del segundo lado: '))\n",
        "s3=int(input('Por favor, digite el valor del tercer lado: '))\n",
        "\n",
        "def Triángulo(s1, s2, s3):\n",
        "  Perímetro=(s1+s2+s3)/2\n",
        "  Área=(sqrt(Perímetro*(Perímetro-s1)*(Perímetro-s2)*(Perímetro-s3)))\n",
        "  return Área\n",
        "\n",
        "A=Triángulo(s1, s2, s3)\n",
        "R=round(A,1)\n",
        "print(R)"
      ]
    },
    {
      "cell_type": "code",
      "source": [
        "#Ejercicio2\n",
        "\n",
        "Peso=float(input('Por favor, digite su peso (en kilogramos):'))\n",
        "Altura=float(input('Por favor, digite su peso (en metros):'))\n",
        "\n",
        "def BMI(Peso, Altura):\n",
        "  P=Peso*(1/0.45)\n",
        "  A=Altura*(1/0.025)\n",
        "  IMC=P/(A**2)\n",
        "  return IMC\n",
        "\n",
        "I=BMI(Peso, Altura)\n",
        "R=round(I,2)\n",
        "print(R)"
      ],
      "metadata": {
        "colab": {
          "base_uri": "https://localhost:8080/"
        },
        "id": "mJ67UtKeyrdt",
        "outputId": "e24bd777-e011-4bf5-bf46-7681cc1531e5"
      },
      "execution_count": null,
      "outputs": [
        {
          "output_type": "stream",
          "name": "stdout",
          "text": [
            "Por favor, digite su peso (en kilogramos):54\n",
            "Por favor, digite su peso (en metros):1.80\n",
            "0.02\n"
          ]
        }
      ]
    }
  ]
}