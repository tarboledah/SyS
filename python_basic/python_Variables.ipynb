{
  "nbformat": 4,
  "nbformat_minor": 0,
  "metadata": {
    "colab": {
      "provenance": []
    },
    "kernelspec": {
      "name": "python3",
      "display_name": "Python 3"
    },
    "language_info": {
      "name": "python"
    }
  },
  "cells": [
    {
      "cell_type": "code",
      "execution_count": null,
      "metadata": {
        "colab": {
          "base_uri": "https://localhost:8080/"
        },
        "id": "zgAm2l0SEmZO",
        "outputId": "915fa9c3-c197-4afc-8a77-1eb9f9693821"
      },
      "outputs": [
        {
          "output_type": "stream",
          "name": "stdout",
          "text": [
            "4.0\n"
          ]
        }
      ],
      "source": [
        "#Ejercicio1\n",
        "\n",
        "x=((3+2)//2.5)**2\n",
        "print(x)"
      ]
    },
    {
      "cell_type": "code",
      "source": [
        "#Ejercicio2\n",
        "\n",
        "HorasTrabajadas=int(input('Por favor, digite el número de horas trabajadas: '))\n",
        "ValorDeHora=int(input('Por favor, digite el valor de una hora trabajada (en $COP): '))\n",
        "Pago=HorasTrabajadas*ValorDeHora\n",
        "print('El valor correspondiente a su paga (en $COP es):', Pago)"
      ],
      "metadata": {
        "colab": {
          "base_uri": "https://localhost:8080/"
        },
        "id": "FsxOl71pFQz-",
        "outputId": "d0145a86-9dd1-41ed-f316-75922dd33a66"
      },
      "execution_count": null,
      "outputs": [
        {
          "output_type": "stream",
          "name": "stdout",
          "text": [
            "Por favor, digite el número de horas trabajadas: 4\n",
            "Por favor, digite el valor de una hora trabajada (en $COP): 5000\n",
            "El valor correspondiente a su paga (en $COP es): 20000\n"
          ]
        }
      ]
    },
    {
      "cell_type": "code",
      "source": [
        "#Ejercicio3\n",
        "\n",
        "Peso=float(input('Por favor, digite su peso (en kilogramos): '))\n",
        "Altura=float(input('Por favor, digite su altura (en metros): '))\n",
        "BMI=Peso/(Altura)**2\n",
        "print('Su índice de BMI es:', BMI)"
      ],
      "metadata": {
        "colab": {
          "base_uri": "https://localhost:8080/"
        },
        "id": "kQxcK5AfF0yv",
        "outputId": "b0c19e71-da48-4c3c-8936-df13e3911483"
      },
      "execution_count": null,
      "outputs": [
        {
          "output_type": "stream",
          "name": "stdout",
          "text": [
            "Por favor, digite su peso (en kilogramos): 75\n",
            "Por favor, digite su altura (en metros): 24\n",
            "Su índice de BMI es: 0.13020833333333334\n"
          ]
        }
      ]
    }
  ]
}