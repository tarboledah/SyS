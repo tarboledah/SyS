{
  "nbformat": 4,
  "nbformat_minor": 0,
  "metadata": {
    "colab": {
      "provenance": []
    },
    "kernelspec": {
      "name": "python3",
      "display_name": "Python 3"
    },
    "language_info": {
      "name": "python"
    }
  },
  "cells": [
    {
      "cell_type": "code",
      "execution_count": null,
      "metadata": {
        "colab": {
          "base_uri": "https://localhost:8080/"
        },
        "id": "UJRVwQtRHkrF",
        "outputId": "fdc1bdc6-0f46-4d95-d315-d24303c626cb"
      },
      "outputs": [
        {
          "output_type": "stream",
          "name": "stdout",
          "text": [
            "Por favor, digite su edad: 17\n",
            "Por favor, digite el valor de sus ingresos mensuales (en EUR€): 1001\n",
            "Usted debe pagar impuestos.\n"
          ]
        }
      ],
      "source": [
        "#Ejercicio1\n",
        "\n",
        "Edad=int(input('Por favor, digite su edad: '))\n",
        "IngresosMensuales=int(input('Por favor, digite el valor de sus ingresos mensuales (en EUR€): '))\n",
        "if Edad>16 and IngresosMensuales>1000:\n",
        "  print('Usted debe pagar impuestos.')\n",
        "else:\n",
        "  print('Usted no debe pagar impuestos.')"
      ]
    },
    {
      "cell_type": "code",
      "source": [
        "#Ejercicio2\n",
        "\n",
        "Elección=int(input('¿Desea ordenar pizza vegetariana? Si su respuesta es sí presione 1, por el contrario presione 2: '))\n",
        "if Elección==1:\n",
        "  Adicional=int(input('Además de queso mozzarella y tomate, su pizza vegetariana puede traer pimiento dulce (1) o tofu (2), ¿cuál desea?: '))\n",
        "  if Adicional==1:\n",
        "    print('Su pizza vegetariana será preparada con los siguientes ingredientes: queso mozarella, tomate y pimiento dulce.')\n",
        "  else:\n",
        "    print('Su pizza vegetariana será preparada con los siguientes ingredientes: queso mozarella, tomate y tofu.')\n",
        "else:\n",
        "  Extra=int(input('Además de queso mozzarella y tomate, su pizza no vegetariana puede traer pepperoni (1), jamón (2) o salmón (3), ¿cuál desea?: '))\n",
        "  if Extra==1:\n",
        "    print('Su pizza no vegetariana será preparada con los siguientes ingredientes: queso mozarella, tomate y pepperoni.')\n",
        "  elif Extra==2:\n",
        "    print('Su pizza no vegetariana será preparada con los siguientes ingredientes: queso mozarella, tomate y jamón.')\n",
        "  else:\n",
        "    print('Su pizza no vegetariana será preparada con los siguientes ingredientes: queso mozarella, tomate y salmón.')"
      ],
      "metadata": {
        "colab": {
          "base_uri": "https://localhost:8080/"
        },
        "id": "wcd3izr7I9Sd",
        "outputId": "5cb69e24-7e31-4364-e783-35702fff70f2"
      },
      "execution_count": null,
      "outputs": [
        {
          "output_type": "stream",
          "name": "stdout",
          "text": [
            "¿Desea ordenar pizza vegetariana? Si su respuesta es sí presione 1, por el contrario presione 2: 1\n",
            "Además de queso mozzarella y tomate, su pizza vegetariana puede traer pimiento dulce (1) o tofu (2), ¿cuál desea?: 2\n",
            "Su pizza vegetariana será preparada con los siguientes ingredientes: queso mozarella, tomate y tofu.\n"
          ]
        }
      ]
    }
  ]
}