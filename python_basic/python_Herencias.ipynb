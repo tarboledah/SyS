{
  "nbformat": 4,
  "nbformat_minor": 0,
  "metadata": {
    "colab": {
      "provenance": []
    },
    "kernelspec": {
      "name": "python3",
      "display_name": "Python 3"
    },
    "language_info": {
      "name": "python"
    }
  },
  "cells": [
    {
      "cell_type": "code",
      "execution_count": null,
      "metadata": {
        "colab": {
          "base_uri": "https://localhost:8080/",
          "height": 245
        },
        "id": "nOw6dughNm-h",
        "outputId": "076e8b71-daf4-4fff-9407-fd86f92b77df"
      },
      "outputs": [
        {
          "output_type": "error",
          "ename": "TypeError",
          "evalue": "ignored",
          "traceback": [
            "\u001b[0;31m---------------------------------------------------------------------------\u001b[0m",
            "\u001b[0;31mTypeError\u001b[0m                                 Traceback (most recent call last)",
            "\u001b[0;32m<ipython-input-4-fac4c1c47af7>\u001b[0m in \u001b[0;36m<cell line: 39>\u001b[0;34m()\u001b[0m\n\u001b[1;32m     37\u001b[0m       \u001b[0mprint\u001b[0m\u001b[0;34m(\u001b[0m\u001b[0;34m'El área del circulo es: '\u001b[0m\u001b[0;34m,\u001b[0m \u001b[0marea\u001b[0m\u001b[0;34m)\u001b[0m\u001b[0;34m\u001b[0m\u001b[0;34m\u001b[0m\u001b[0m\n\u001b[1;32m     38\u001b[0m \u001b[0;34m\u001b[0m\u001b[0m\n\u001b[0;32m---> 39\u001b[0;31m \u001b[0mtriangulo1\u001b[0m \u001b[0;34m=\u001b[0m \u001b[0mTriangulo\u001b[0m\u001b[0;34m(\u001b[0m\u001b[0;36m20\u001b[0m\u001b[0;34m,\u001b[0m\u001b[0;36m5\u001b[0m\u001b[0;34m)\u001b[0m\u001b[0;34m\u001b[0m\u001b[0;34m\u001b[0m\u001b[0m\n\u001b[0m\u001b[1;32m     40\u001b[0m \u001b[0mtriangulo2\u001b[0m \u001b[0;34m=\u001b[0m \u001b[0mTriangulo\u001b[0m\u001b[0;34m(\u001b[0m\u001b[0;36m10\u001b[0m\u001b[0;34m,\u001b[0m\u001b[0;36m5\u001b[0m\u001b[0;34m)\u001b[0m\u001b[0;34m\u001b[0m\u001b[0;34m\u001b[0m\u001b[0m\n\u001b[1;32m     41\u001b[0m \u001b[0mtriangulo3\u001b[0m \u001b[0;34m=\u001b[0m \u001b[0mTriangulo\u001b[0m\u001b[0;34m(\u001b[0m\u001b[0;36m10\u001b[0m\u001b[0;34m,\u001b[0m\u001b[0;36m15\u001b[0m\u001b[0;34m)\u001b[0m\u001b[0;34m\u001b[0m\u001b[0;34m\u001b[0m\u001b[0m\n",
            "\u001b[0;31mTypeError\u001b[0m: Triangulo() takes no arguments"
          ]
        }
      ],
      "source": [
        "#Ejercicio1\n",
        "\n",
        "import numpy as np\n",
        "from math import sqrt\n",
        "\n",
        "class FiguraGeometrica:\n",
        "    def _init_(self, base, altura):\n",
        "      self.base = base\n",
        "      self.altura = altura\n",
        "\n",
        "class FiguraGeometrica_Conica:\n",
        "    def _init_(self, radio):\n",
        "      self.radio = radio\n",
        "\n",
        "class Triangulo(FiguraGeometrica):\n",
        "    def _init_(self, base, altura):\n",
        "      super()._init_(base, altura)\n",
        "\n",
        "    def CalcularAreaT(self):\n",
        "      area = (self.base * self.altura)/2\n",
        "      print('El area del triangulo es : ', area)\n",
        "\n",
        "class Cuadrilatero(FiguraGeometrica):\n",
        "    def _init_(self, base, altura):\n",
        "      super()._init_(base, altura)\n",
        "\n",
        "    def CalcularAreaC(self):\n",
        "      area = self.base*self.altura\n",
        "      print('El area del cuadrilatero es:', area )\n",
        "\n",
        "class Circulo(FiguraGeometrica_Conica):\n",
        "    def _init_(self, radio):\n",
        "      super()._init_(radio)\n",
        "\n",
        "    def CalcularAreaCi(self):\n",
        "      area = round(np.pi*(self.radio**2), 3)\n",
        "      print('El área del circulo es: ', area)\n",
        "\n",
        "triangulo1 = Triangulo(20,5)\n",
        "triangulo2 = Triangulo(10,5)\n",
        "triangulo3 = Triangulo(10,15)\n",
        "cuadrilatero = Cuadrilatero(20,5)\n",
        "circulo = Circulo(4)\n",
        "\n",
        "triangulo1.CalcularAreaT()\n",
        "triangulo2.CalcularAreaT()\n",
        "triangulo3.CalcularAreaT()\n",
        "cuadrilatero.CalcularAreaC()\n",
        "circulo.CalcularAreaCi()"
      ]
    },
    {
      "cell_type": "code",
      "source": [
        "#Ejercicio2\n",
        "\n",
        "asientos=[[1,1,1],[1,1,1],[1,1,1]]\n",
        "tarifa=50000\n",
        "\n",
        "class Vuelo:\n",
        "    def _init_(self, nvuelo, origen, destino, cmpasajeros):\n",
        "      self.nvuelo=nvuelo\n",
        "      self.origen=origen\n",
        "      self.destino=destino\n",
        "      self.cmpasajeros=cmpasajeros\n",
        "\n",
        "    def ocuparAsientos(self):\n",
        "      print('Asientos donde 1 es disponible y 0 es ocupado\\n',asientos)\n",
        "      contador=0\n",
        "      x=int(input('Ingrese el número de asientos que desea comprar: '))\n",
        "      while contador<x:\n",
        "        fila=int(input('Seleccion una fila sea 0, 1 o 2: '))\n",
        "        columna=int(input('Seleccione una columna de 0, 1 o 2: '))\n",
        "        if asientos[fila][columna]==1:\n",
        "          asientos[fila][columna]=0\n",
        "          contador+=1\n",
        "          print('Su asiento esta en la fila:',fila,'y columna:',columna)\n",
        "        else:\n",
        "          print('Asiento ocupado')\n",
        "\n",
        "class VueloEconomico(Vuelo):\n",
        "    def _init_(self, nvuelo, origen, destino, cmpasajeros, tarifa):\n",
        "      super()._init_(nvuelo, origen, destino, cmpasajeros)\n",
        "      self.tarifa=tarifa\n",
        "\n",
        "    def ocuparAsientos(self):\n",
        "      print('Asientos donde 1 es disponible y 0 es ocupado\\n',asientos)\n",
        "      x = int(input('Cuantos asientos desea reservar: '))\n",
        "      contador=0\n",
        "      while contador<x:\n",
        "        fila=int(input('Seleccion una fila sea 0, 1 o 2: '))\n",
        "        columna=int(input('Seleccione una columna de 0, 1 o 2: '))\n",
        "        if asientos[fila][columna]==1:\n",
        "          asientos[fila][columna]=0\n",
        "          print('Su asiento esta en la fila:',fila,'y columna:',columna)\n",
        "          contador+=1\n",
        "        else:\n",
        "          print('Asiento ocupado')\n",
        "      precio=self.tarifa*x\n",
        "      print('La tarifa total es:',precio)\n",
        "\n",
        "\n",
        "vuelo=Vuelo(82,'manizales', 'bogota', 9)\n",
        "vuelo.ocuparAsientos()\n",
        "vueloe=VueloEconomico(82,'manizales', 'bogota', 9, tarifa)\n",
        "vueloe.ocuparAsientos()"
      ],
      "metadata": {
        "colab": {
          "base_uri": "https://localhost:8080/",
          "height": 245
        },
        "id": "wPO7PDd7e-Oo",
        "outputId": "0f314518-01e6-4905-abb9-c5b56d9d8840"
      },
      "execution_count": null,
      "outputs": [
        {
          "output_type": "error",
          "ename": "TypeError",
          "evalue": "ignored",
          "traceback": [
            "\u001b[0;31m---------------------------------------------------------------------------\u001b[0m",
            "\u001b[0;31mTypeError\u001b[0m                                 Traceback (most recent call last)",
            "\u001b[0;32m<ipython-input-3-1233683080c5>\u001b[0m in \u001b[0;36m<cell line: 49>\u001b[0;34m()\u001b[0m\n\u001b[1;32m     47\u001b[0m \u001b[0;34m\u001b[0m\u001b[0m\n\u001b[1;32m     48\u001b[0m \u001b[0;34m\u001b[0m\u001b[0m\n\u001b[0;32m---> 49\u001b[0;31m \u001b[0mvuelo\u001b[0m\u001b[0;34m=\u001b[0m\u001b[0mVuelo\u001b[0m\u001b[0;34m(\u001b[0m\u001b[0;36m82\u001b[0m\u001b[0;34m,\u001b[0m\u001b[0;34m'manizales'\u001b[0m\u001b[0;34m,\u001b[0m \u001b[0;34m'bogota'\u001b[0m\u001b[0;34m,\u001b[0m \u001b[0;36m9\u001b[0m\u001b[0;34m)\u001b[0m\u001b[0;34m\u001b[0m\u001b[0;34m\u001b[0m\u001b[0m\n\u001b[0m\u001b[1;32m     50\u001b[0m \u001b[0mvuelo\u001b[0m\u001b[0;34m.\u001b[0m\u001b[0mocuparAsientos\u001b[0m\u001b[0;34m(\u001b[0m\u001b[0;34m)\u001b[0m\u001b[0;34m\u001b[0m\u001b[0;34m\u001b[0m\u001b[0m\n\u001b[1;32m     51\u001b[0m \u001b[0mvueloe\u001b[0m\u001b[0;34m=\u001b[0m\u001b[0mVueloEconomico\u001b[0m\u001b[0;34m(\u001b[0m\u001b[0;36m82\u001b[0m\u001b[0;34m,\u001b[0m\u001b[0;34m'manizales'\u001b[0m\u001b[0;34m,\u001b[0m \u001b[0;34m'bogota'\u001b[0m\u001b[0;34m,\u001b[0m \u001b[0;36m9\u001b[0m\u001b[0;34m,\u001b[0m \u001b[0mtarifa\u001b[0m\u001b[0;34m)\u001b[0m\u001b[0;34m\u001b[0m\u001b[0;34m\u001b[0m\u001b[0m\n",
            "\u001b[0;31mTypeError\u001b[0m: Vuelo() takes no arguments"
          ]
        }
      ]
    }
  ]
}