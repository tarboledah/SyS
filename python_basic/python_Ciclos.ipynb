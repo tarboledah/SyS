{
  "nbformat": 4,
  "nbformat_minor": 0,
  "metadata": {
    "colab": {
      "provenance": []
    },
    "kernelspec": {
      "name": "python3",
      "display_name": "Python 3"
    },
    "language_info": {
      "name": "python"
    }
  },
  "cells": [
    {
      "cell_type": "code",
      "execution_count": null,
      "metadata": {
        "colab": {
          "base_uri": "https://localhost:8080/"
        },
        "id": "RU9tiHrrXB_7",
        "outputId": "91467b69-7d81-41d9-f751-0303d2123a07"
      },
      "outputs": [
        {
          "output_type": "stream",
          "name": "stdout",
          "text": [
            "Digite un número entero; digite el número cero para finalizar: 4\n",
            "Digite un número entero; digite el número cero para finalizar: 5\n",
            "Digite un número entero; digite el número cero para finalizar: 6\n",
            "Digite un número entero; digite el número cero para finalizar: 0\n",
            "Fin del programa. La cantidad de números enteros digitados antes de finalizar el programa es: 3\n"
          ]
        }
      ],
      "source": [
        "#Ejercicio1\n",
        "\n",
        "Contador=0\n",
        "Número=int(input('Digite un número entero; digite el número cero para finalizar: '))\n",
        "while Número!=0:\n",
        "  Número=int(input('Digite un número entero; digite el número cero para finalizar: '))\n",
        "  Contador+=1\n",
        "print('Fin del programa. La cantidad de números enteros digitados antes de finalizar el programa es:', Contador)"
      ]
    },
    {
      "cell_type": "code",
      "source": [
        "#Ejercicio2\n",
        "\n",
        "Contador=0\n",
        "Acumulador=0\n",
        "while Contador<10 and Acumulador<=50:\n",
        "  Número=int(input('Digite un número entero: '))\n",
        "  Contador+=1\n",
        "  if Número%2==0:\n",
        "    Acumulador+=Número\n",
        "print('Fin del programa. La suma del total de números enteros digitados y la cantidad de números enteros digitados respectivamente son:', Acumulador, Contador)"
      ],
      "metadata": {
        "colab": {
          "base_uri": "https://localhost:8080/"
        },
        "id": "nYAiZRjwa-Ad",
        "outputId": "b9d97161-3a86-4743-98a2-7f4c2a0ec5d6"
      },
      "execution_count": null,
      "outputs": [
        {
          "output_type": "stream",
          "name": "stdout",
          "text": [
            "Digite un número entero: 1\n",
            "Digite un número entero: 1\n",
            "Digite un número entero: 1\n",
            "Digite un número entero: 1\n",
            "Digite un número entero: 1\n",
            "Digite un número entero: 1\n",
            "Digite un número entero: 1\n",
            "Digite un número entero: 1\n",
            "Digite un número entero: 10\n",
            "Digite un número entero: 10\n",
            "Fin del programa. La suma del total de números enteros digitados y la cantidad de números enteros digitados respectivamente son: 20 10\n"
          ]
        }
      ]
    }
  ]
}